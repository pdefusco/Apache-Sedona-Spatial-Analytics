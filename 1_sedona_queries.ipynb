{
 "cells": [
  {
   "cell_type": "markdown",
   "id": "5d5f164d-f28a-4360-a980-a146db2a8e5d",
   "metadata": {},
   "source": [
    "### Getting Started with Sedona Queries"
   ]
  },
  {
   "cell_type": "code",
   "execution_count": 1,
   "id": "92917316-f17e-4a60-967b-6ceb543ec60c",
   "metadata": {},
   "outputs": [],
   "source": [
    "from pyspark.sql import SparkSession\n",
    "from sedona.register import SedonaRegistrator"
   ]
  },
  {
   "cell_type": "code",
   "execution_count": 2,
   "id": "afafc42e-b233-425d-a135-2cc76945de8b",
   "metadata": {},
   "outputs": [],
   "source": [
    "#Initialize Spark Session\n",
    "#Include Maven Coordinates\n",
    "spark = SparkSession\\\n",
    "    .builder\\\n",
    "    .appName(\"Python\")\\\n",
    "    .master(\"local[*]\")\\\n",
    "    .config('spark.jars.packages',\n",
    "           'org.apache.sedona:sedona-python-adapter-2.4_2.11:1.0.1-incubating') \\\n",
    "    .getOrCreate()"
   ]
  },
  {
   "cell_type": "code",
   "execution_count": 3,
   "id": "5099577b-a505-4bfa-b007-ce6da9c53ec6",
   "metadata": {},
   "outputs": [
    {
     "data": {
      "text/plain": [
       "True"
      ]
     },
     "execution_count": 3,
     "metadata": {},
     "output_type": "execute_result"
    }
   ],
   "source": [
    "#Register SedonaSQL functions in your Spark Session\n",
    "SedonaRegistrator.registerAll(spark)"
   ]
  },
  {
   "cell_type": "code",
   "execution_count": 4,
   "id": "1692abd8-c737-4a58-9a3f-561ccc99cc9c",
   "metadata": {},
   "outputs": [
    {
     "name": "stdout",
     "output_type": "stream",
     "text": [
      "+--------------------+\n",
      "|                 _c0|\n",
      "+--------------------+\n",
      "|POLYGON ((-97.019...|\n",
      "|POLYGON ((-123.43...|\n",
      "|POLYGON ((-104.56...|\n",
      "|POLYGON ((-96.910...|\n",
      "|POLYGON ((-98.273...|\n",
      "+--------------------+\n",
      "only showing top 5 rows\n",
      "\n"
     ]
    }
   ],
   "source": [
    "#Read data into Spark DataFrame\n",
    "df = spark.read.option(\"delimiter\", \"|\").csv(\"county_small.tsv\", header=False)\n",
    "df.show(5)"
   ]
  },
  {
   "cell_type": "code",
   "execution_count": 5,
   "id": "300d2a81-6983-4871-b106-a85bcfcc4d57",
   "metadata": {},
   "outputs": [],
   "source": [
    "#Create a temporary table to use with Spark SQL\n",
    "df.createOrReplaceTempView(\"geo_table\")"
   ]
  },
  {
   "cell_type": "code",
   "execution_count": 6,
   "id": "79ad67f0-4765-468d-9117-01984e2d675a",
   "metadata": {},
   "outputs": [
    {
     "name": "stdout",
     "output_type": "stream",
     "text": [
      "root\n",
      " |-- _c0: string (nullable = true)\n",
      "\n"
     ]
    }
   ],
   "source": [
    "df.printSchema()"
   ]
  },
  {
   "cell_type": "code",
   "execution_count": 7,
   "id": "82bd16f7-84a2-49b9-8919-67f3ec6bff76",
   "metadata": {},
   "outputs": [],
   "source": [
    "#Convert c0 to Geometric type\n",
    "geo_query = spark.sql('''SELECT ST_GeomFromWKT(_c0) AS shape\n",
    "                         FROM geo_table''')"
   ]
  },
  {
   "cell_type": "code",
   "execution_count": 8,
   "id": "be36d295-75db-405c-a7ab-f571152ee433",
   "metadata": {},
   "outputs": [
    {
     "name": "stdout",
     "output_type": "stream",
     "text": [
      "root\n",
      " |-- shape: geometry (nullable = false)\n",
      "\n"
     ]
    }
   ],
   "source": [
    "#Ensure co is of Geometric type\n",
    "geo_query.printSchema()"
   ]
  },
  {
   "cell_type": "code",
   "execution_count": 9,
   "id": "8e4cb766-c174-453b-8ced-5f7e6229fef5",
   "metadata": {},
   "outputs": [
    {
     "name": "stdout",
     "output_type": "stream",
     "text": [
      "+--------------------+\n",
      "|               shape|\n",
      "+--------------------+\n",
      "|POLYGON ((-97.019...|\n",
      "|POLYGON ((-123.43...|\n",
      "|POLYGON ((-104.56...|\n",
      "|POLYGON ((-96.910...|\n",
      "|POLYGON ((-98.273...|\n",
      "+--------------------+\n",
      "only showing top 5 rows\n",
      "\n"
     ]
    }
   ],
   "source": [
    "#View the data\n",
    "geo_query.show(5)"
   ]
  },
  {
   "cell_type": "code",
   "execution_count": null,
   "id": "36967143-e37f-4d0b-8c1f-25078cf716e8",
   "metadata": {},
   "outputs": [],
   "source": []
  }
 ],
 "metadata": {
  "kernelspec": {
   "display_name": "Python 3",
   "language": "python",
   "name": "python3"
  },
  "language_info": {
   "codemirror_mode": {
    "name": "ipython",
    "version": 3
   },
   "file_extension": ".py",
   "mimetype": "text/x-python",
   "name": "python",
   "nbconvert_exporter": "python",
   "pygments_lexer": "ipython3",
   "version": "3.7.12"
  }
 },
 "nbformat": 4,
 "nbformat_minor": 5
}
